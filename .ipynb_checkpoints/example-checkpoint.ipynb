{
 "cells": [
  {
   "cell_type": "markdown",
   "metadata": {},
   "source": [
    "# Example of running full waveform source mechanism inversion using SeisSrcInv"
   ]
  },
  {
   "cell_type": "markdown",
   "metadata": {},
   "source": [
    "This jupyter-notebook provides an example of how to use the python module SeisSrcInv to perform a full waveform source mechanism inversion. Firstly, an example of how to run an inversion is given using SeisSrcInv.inversion. The results of this inversion are then plotted using SeisSrcInv.plot."
   ]
  },
  {
   "cell_type": "code",
   "execution_count": 1,
   "metadata": {},
   "outputs": [],
   "source": [
    "# Import the module:\n",
    "import SeisSrcInv"
   ]
  },
  {
   "cell_type": "markdown",
   "metadata": {},
   "source": [
    "## 1. Setup and perform a basic full waveform inversion"
   ]
  },
  {
   "cell_type": "code",
   "execution_count": 3,
   "metadata": {},
   "outputs": [],
   "source": [
    "# Specify all inversion input variables:\n",
    "datadir = 'data/real_and_greens_func_data'\n",
    "outdir = 'data/FW_data_out'\n",
    "real_data_fnames = ['real_data_ST01_z.txt', 'real_data_ST01_r.txt', 'real_data_ST01_t.txt', 'real_data_ST02_z.txt', 'real_data_ST02_r.txt', 'real_data_ST02_t.txt', 'real_data_ST03_z.txt', 'real_data_ST03_r.txt', 'real_data_ST03_t.txt'] # List of real waveform data files within datadir corresponding to each station (i.e. length is number of stations to invert for)\n",
    "MT_green_func_fnames = ['green_func_array_MT_ST01_z.txt', 'green_func_array_MT_ST01_r.txt', 'green_func_array_MT_ST01_t.txt', 'green_func_array_MT_ST02_z.txt', 'green_func_array_MT_ST02_r.txt', 'green_func_array_MT_ST02_t.txt', 'green_func_array_MT_ST03_z.txt', 'green_func_array_MT_ST03_r.txt', 'green_func_array_MT_ST03_t.txt'] # List of Green's functions data files (generated using fk code) within datadir corresponding to each station (i.e. length is number of stations to invert for)\n",
    "single_force_green_func_fnames = ['green_func_array_single_force_ST01_z.txt', 'green_func_array_single_force_ST01_r.txt', 'green_func_array_single_force_ST01_t.txt', 'green_func_array_single_force_ST02_z.txt', 'green_func_array_single_force_ST02_r.txt', 'green_func_array_single_force_ST02_t.txt', 'green_func_array_single_force_ST03_z.txt', 'green_func_array_single_force_ST03_r.txt', 'green_func_array_single_force_ST03_t.txt'] # List of Green's functions data files (generated using fk code) within datadir corresponding to each station (i.e. length is number of stations to invert for)\n",
    "data_labels = [\"ST01, Z\", \"ST01, R\", \"ST01, T\", \"ST02, Z\", \"ST02, R\", \"ST02, T\", \"ST03, Z\", \"ST03, R\", \"ST03, T\"] # Format of these labels must be of the form \"station_name, comp\" with the comma\n",
    "inversion_type = 'DC' # Inversion type automatically filled (if single force, greens functions must be 3 components rather than 6)\n",
    "perform_normallised_waveform_inversion = False \n",
    "compare_all_waveforms_simultaneously = False \n",
    "num_samples = 1000 # Number of samples to perform Monte Carlo over\n",
    "comparison_metric = \"VR\"\n",
    "manual_indices_time_shift_MT = [9, -10, -9, 6, -15, -15, 8, 14, -13]\n",
    "manual_indices_time_shift_SF = [9, -11, -10, 6, -16, -16, 7, 13, -14]\n",
    "cut_phase_start_vals = [0, 600, 600, 0, 575, 575, 0, 650, 650]\n",
    "cut_phase_length = 150\n",
    "nlloc_hyp_filename = \"data/NLLoc_data/loc.Tom__RunNLLoc000.20090121.042009.grid0.loc.hyp\"\n",
    "num_processors = 1 # Number of processors to run for (default is 1)\n",
    "set_pre_time_shift_values_to_zero_switch = False # If True, sets values before time shift to zero (default is True)\n",
    "return_absolute_similarity_values_switch = True # If True, will also save absolute similarity values, as well as the normallised values."
   ]
  },
  {
   "cell_type": "code",
   "execution_count": 4,
   "metadata": {},
   "outputs": [
    {
     "ename": "IOError",
     "evalue": "data/real_and_greens_func_data/real_data_ST01_z.txt not found.",
     "output_type": "error",
     "traceback": [
      "\u001b[0;31m---------------------------------------------------------------------------\u001b[0m",
      "\u001b[0;31mIOError\u001b[0m                                   Traceback (most recent call last)",
      "\u001b[0;32m<ipython-input-4-1cf72f13a79e>\u001b[0m in \u001b[0;36m<module>\u001b[0;34m()\u001b[0m\n\u001b[1;32m      1\u001b[0m \u001b[0;31m# And perform inversion:\u001b[0m\u001b[0;34m\u001b[0m\u001b[0;34m\u001b[0m\u001b[0m\n\u001b[0;32m----> 2\u001b[0;31m \u001b[0mSeisSrcInv\u001b[0m\u001b[0;34m.\u001b[0m\u001b[0minversion\u001b[0m\u001b[0;34m.\u001b[0m\u001b[0mrun\u001b[0m\u001b[0;34m(\u001b[0m\u001b[0mdatadir\u001b[0m\u001b[0;34m,\u001b[0m \u001b[0moutdir\u001b[0m\u001b[0;34m,\u001b[0m \u001b[0mreal_data_fnames\u001b[0m\u001b[0;34m,\u001b[0m \u001b[0mMT_green_func_fnames\u001b[0m\u001b[0;34m,\u001b[0m \u001b[0msingle_force_green_func_fnames\u001b[0m\u001b[0;34m,\u001b[0m \u001b[0mdata_labels\u001b[0m\u001b[0;34m,\u001b[0m \u001b[0minversion_type\u001b[0m\u001b[0;34m,\u001b[0m \u001b[0mperform_normallised_waveform_inversion\u001b[0m\u001b[0;34m,\u001b[0m \u001b[0mcompare_all_waveforms_simultaneously\u001b[0m\u001b[0;34m,\u001b[0m \u001b[0mnum_samples\u001b[0m\u001b[0;34m,\u001b[0m \u001b[0mcomparison_metric\u001b[0m\u001b[0;34m,\u001b[0m \u001b[0mmanual_indices_time_shift_MT\u001b[0m\u001b[0;34m,\u001b[0m \u001b[0mmanual_indices_time_shift_SF\u001b[0m\u001b[0;34m,\u001b[0m \u001b[0mnlloc_hyp_filename\u001b[0m\u001b[0;34m,\u001b[0m \u001b[0mnum_processors\u001b[0m\u001b[0;34m=\u001b[0m\u001b[0mnum_processors\u001b[0m\u001b[0;34m,\u001b[0m \u001b[0mset_pre_time_shift_values_to_zero_switch\u001b[0m\u001b[0;34m=\u001b[0m\u001b[0mset_pre_time_shift_values_to_zero_switch\u001b[0m\u001b[0;34m,\u001b[0m \u001b[0mreturn_absolute_similarity_values_switch\u001b[0m\u001b[0;34m=\u001b[0m\u001b[0mreturn_absolute_similarity_values_switch\u001b[0m\u001b[0;34m,\u001b[0m \u001b[0mcut_phase_start_vals\u001b[0m\u001b[0;34m=\u001b[0m\u001b[0mcut_phase_start_vals\u001b[0m\u001b[0;34m,\u001b[0m \u001b[0mcut_phase_length\u001b[0m\u001b[0;34m=\u001b[0m\u001b[0mcut_phase_length\u001b[0m\u001b[0;34m)\u001b[0m\u001b[0;34m\u001b[0m\u001b[0m\n\u001b[0m",
      "\u001b[0;32m/Users/tomhudson/Python/Python_packages_released/SeisSrcInv/SeisSrcInv/inversion.py\u001b[0m in \u001b[0;36mrun\u001b[0;34m(datadir, outdir, real_data_fnames, MT_green_func_fnames, single_force_green_func_fnames, data_labels, inversion_type, perform_normallised_waveform_inversion, compare_all_waveforms_simultaneously, num_samples, comparison_metric, manual_indices_time_shift_MT, manual_indices_time_shift_SF, nlloc_hyp_filename, cut_phase_start_vals, cut_phase_length, plot_switch, num_processors, set_pre_time_shift_values_to_zero_switch, only_save_non_zero_solns_switch, return_absolute_similarity_values_switch, invert_for_ratio_of_multiple_media_greens_func_switch, green_func_fnames_split_index, green_func_phase_labels, invert_for_relative_magnitudes_switch, rel_exp_mag_range)\u001b[0m\n\u001b[1;32m   1246\u001b[0m \u001b[0;34m\u001b[0m\u001b[0m\n\u001b[1;32m   1247\u001b[0m         \u001b[0;31m# Load input data (completely, for specific inversion type):\u001b[0m\u001b[0;34m\u001b[0m\u001b[0;34m\u001b[0m\u001b[0m\n\u001b[0;32m-> 1248\u001b[0;31m         \u001b[0mreal_data_array\u001b[0m\u001b[0;34m,\u001b[0m \u001b[0mgreen_func_array\u001b[0m \u001b[0;34m=\u001b[0m \u001b[0mget_overall_real_and_green_func_data\u001b[0m\u001b[0;34m(\u001b[0m\u001b[0mdatadir\u001b[0m\u001b[0;34m,\u001b[0m \u001b[0mreal_data_fnames\u001b[0m\u001b[0;34m,\u001b[0m \u001b[0mMT_green_func_fnames\u001b[0m\u001b[0;34m,\u001b[0m \u001b[0msingle_force_green_func_fnames\u001b[0m\u001b[0;34m,\u001b[0m \u001b[0minversion_type\u001b[0m\u001b[0;34m,\u001b[0m \u001b[0mmanual_indices_time_shift_MT\u001b[0m\u001b[0;34m=\u001b[0m\u001b[0mmanual_indices_time_shift_MT\u001b[0m\u001b[0;34m,\u001b[0m \u001b[0mmanual_indices_time_shift_SF\u001b[0m\u001b[0;34m=\u001b[0m\u001b[0mmanual_indices_time_shift_SF\u001b[0m\u001b[0;34m,\u001b[0m \u001b[0mcut_phase_start_vals\u001b[0m\u001b[0;34m=\u001b[0m\u001b[0mcut_phase_start_vals\u001b[0m\u001b[0;34m,\u001b[0m \u001b[0mcut_phase_length\u001b[0m\u001b[0;34m=\u001b[0m\u001b[0mcut_phase_length\u001b[0m\u001b[0;34m,\u001b[0m \u001b[0mset_pre_time_shift_values_to_zero_switch\u001b[0m\u001b[0;34m=\u001b[0m\u001b[0mset_pre_time_shift_values_to_zero_switch\u001b[0m\u001b[0;34m)\u001b[0m\u001b[0;34m\u001b[0m\u001b[0m\n\u001b[0m\u001b[1;32m   1249\u001b[0m \u001b[0;34m\u001b[0m\u001b[0m\n\u001b[1;32m   1250\u001b[0m         \u001b[0;31m# Perform the inversion:\u001b[0m\u001b[0;34m\u001b[0m\u001b[0;34m\u001b[0m\u001b[0m\n",
      "\u001b[0;32m/Users/tomhudson/Python/Python_packages_released/SeisSrcInv/SeisSrcInv/inversion.py\u001b[0m in \u001b[0;36mget_overall_real_and_green_func_data\u001b[0;34m(datadir, real_data_fnames, MT_green_func_fnames, single_force_green_func_fnames, inversion_type, manual_indices_time_shift_MT, manual_indices_time_shift_SF, cut_phase_start_vals, cut_phase_length, set_pre_time_shift_values_to_zero_switch, invert_for_ratio_of_multiple_media_greens_func_switch, green_func_fnames_split_index)\u001b[0m\n\u001b[1;32m    170\u001b[0m             \u001b[0mreal_data_array\u001b[0m\u001b[0;34m,\u001b[0m \u001b[0mgreen_func_array\u001b[0m \u001b[0;34m=\u001b[0m \u001b[0mload_input_data_multiple_media\u001b[0m\u001b[0;34m(\u001b[0m\u001b[0mdatadir\u001b[0m\u001b[0;34m,\u001b[0m \u001b[0mreal_data_fnames\u001b[0m\u001b[0;34m,\u001b[0m \u001b[0mMT_green_func_fnames\u001b[0m\u001b[0;34m,\u001b[0m \u001b[0mgreen_func_fnames_split_index\u001b[0m\u001b[0;34m,\u001b[0m \u001b[0mmanual_indices_time_shift_MT\u001b[0m\u001b[0;34m,\u001b[0m \u001b[0mcut_phase_start_vals\u001b[0m\u001b[0;34m=\u001b[0m\u001b[0mcut_phase_start_vals\u001b[0m\u001b[0;34m,\u001b[0m \u001b[0mcut_phase_length\u001b[0m\u001b[0;34m=\u001b[0m\u001b[0mcut_phase_length\u001b[0m\u001b[0;34m,\u001b[0m \u001b[0mset_pre_time_shift_values_to_zero_switch\u001b[0m\u001b[0;34m=\u001b[0m\u001b[0mset_pre_time_shift_values_to_zero_switch\u001b[0m\u001b[0;34m)\u001b[0m\u001b[0;34m\u001b[0m\u001b[0m\n\u001b[1;32m    171\u001b[0m         \u001b[0;32melse\u001b[0m\u001b[0;34m:\u001b[0m\u001b[0;34m\u001b[0m\u001b[0m\n\u001b[0;32m--> 172\u001b[0;31m             \u001b[0mreal_data_array\u001b[0m\u001b[0;34m,\u001b[0m \u001b[0mgreen_func_array\u001b[0m \u001b[0;34m=\u001b[0m \u001b[0mload_input_data\u001b[0m\u001b[0;34m(\u001b[0m\u001b[0mdatadir\u001b[0m\u001b[0;34m,\u001b[0m \u001b[0mreal_data_fnames\u001b[0m\u001b[0;34m,\u001b[0m \u001b[0mMT_green_func_fnames\u001b[0m\u001b[0;34m,\u001b[0m \u001b[0mmanual_indices_time_shift_MT\u001b[0m\u001b[0;34m,\u001b[0m \u001b[0mcut_phase_start_vals\u001b[0m\u001b[0;34m=\u001b[0m\u001b[0mcut_phase_start_vals\u001b[0m\u001b[0;34m,\u001b[0m \u001b[0mcut_phase_length\u001b[0m\u001b[0;34m=\u001b[0m\u001b[0mcut_phase_length\u001b[0m\u001b[0;34m,\u001b[0m \u001b[0mset_pre_time_shift_values_to_zero_switch\u001b[0m\u001b[0;34m=\u001b[0m\u001b[0mset_pre_time_shift_values_to_zero_switch\u001b[0m\u001b[0;34m)\u001b[0m\u001b[0;34m\u001b[0m\u001b[0m\n\u001b[0m\u001b[1;32m    173\u001b[0m         \u001b[0;31m# correct for different units of single force to DC (see note in script header):\u001b[0m\u001b[0;34m\u001b[0m\u001b[0;34m\u001b[0m\u001b[0m\n\u001b[1;32m    174\u001b[0m         \u001b[0mgreen_func_array\u001b[0m \u001b[0;34m=\u001b[0m \u001b[0mgreen_func_array\u001b[0m\u001b[0;34m*\u001b[0m\u001b[0;34m(\u001b[0m\u001b[0;36m10\u001b[0m\u001b[0;34m**\u001b[0m\u001b[0;36m3\u001b[0m\u001b[0;34m)\u001b[0m\u001b[0;34m\u001b[0m\u001b[0m\n",
      "\u001b[0;32m/Users/tomhudson/Python/Python_packages_released/SeisSrcInv/SeisSrcInv/inversion.py\u001b[0m in \u001b[0;36mload_input_data\u001b[0;34m(datadir, real_data_fnames, green_func_fnames, manual_indices_time_shift, cut_phase_start_vals, cut_phase_length, set_pre_time_shift_values_to_zero_switch)\u001b[0m\n\u001b[1;32m     74\u001b[0m     Outputs: Real data array of shape (t, n) where t is number of time data points and n is number of stations; greens functions array of shape (t, g_n) where g_n is the number of greens functions components.\"\"\"\n\u001b[1;32m     75\u001b[0m     \u001b[0;31m# Set up data storage arrays:\u001b[0m\u001b[0;34m\u001b[0m\u001b[0;34m\u001b[0m\u001b[0m\n\u001b[0;32m---> 76\u001b[0;31m     \u001b[0mtmp_real_data\u001b[0m \u001b[0;34m=\u001b[0m \u001b[0mnp\u001b[0m\u001b[0;34m.\u001b[0m\u001b[0mloadtxt\u001b[0m\u001b[0;34m(\u001b[0m\u001b[0mdatadir\u001b[0m\u001b[0;34m+\u001b[0m\u001b[0;34m\"/\"\u001b[0m\u001b[0;34m+\u001b[0m\u001b[0mreal_data_fnames\u001b[0m\u001b[0;34m[\u001b[0m\u001b[0;36m0\u001b[0m\u001b[0;34m]\u001b[0m\u001b[0;34m,\u001b[0m\u001b[0mdtype\u001b[0m\u001b[0;34m=\u001b[0m\u001b[0mfloat\u001b[0m\u001b[0;34m)\u001b[0m\u001b[0;34m\u001b[0m\u001b[0m\n\u001b[0m\u001b[1;32m     77\u001b[0m     \u001b[0mtmp_green_func_data\u001b[0m \u001b[0;34m=\u001b[0m \u001b[0mnp\u001b[0m\u001b[0;34m.\u001b[0m\u001b[0mloadtxt\u001b[0m\u001b[0;34m(\u001b[0m\u001b[0mdatadir\u001b[0m\u001b[0;34m+\u001b[0m\u001b[0;34m\"/\"\u001b[0m\u001b[0;34m+\u001b[0m\u001b[0mgreen_func_fnames\u001b[0m\u001b[0;34m[\u001b[0m\u001b[0;36m0\u001b[0m\u001b[0;34m]\u001b[0m\u001b[0;34m,\u001b[0m\u001b[0mdtype\u001b[0m\u001b[0;34m=\u001b[0m\u001b[0mfloat\u001b[0m\u001b[0;34m)\u001b[0m\u001b[0;34m\u001b[0m\u001b[0m\n\u001b[1;32m     78\u001b[0m     \u001b[0mnum_time_pts\u001b[0m \u001b[0;34m=\u001b[0m \u001b[0mlen\u001b[0m\u001b[0;34m(\u001b[0m\u001b[0mtmp_real_data\u001b[0m\u001b[0;34m)\u001b[0m \u001b[0;31m# Number of time points\u001b[0m\u001b[0;34m\u001b[0m\u001b[0m\n",
      "\u001b[0;32m/Users/tomhudson/anaconda2/lib/python2.7/site-packages/numpy/lib/npyio.pyc\u001b[0m in \u001b[0;36mloadtxt\u001b[0;34m(fname, dtype, comments, delimiter, converters, skiprows, usecols, unpack, ndmin, encoding)\u001b[0m\n\u001b[1;32m    924\u001b[0m             \u001b[0mfname\u001b[0m \u001b[0;34m=\u001b[0m \u001b[0mstr\u001b[0m\u001b[0;34m(\u001b[0m\u001b[0mfname\u001b[0m\u001b[0;34m)\u001b[0m\u001b[0;34m\u001b[0m\u001b[0m\n\u001b[1;32m    925\u001b[0m         \u001b[0;32mif\u001b[0m \u001b[0m_is_string_like\u001b[0m\u001b[0;34m(\u001b[0m\u001b[0mfname\u001b[0m\u001b[0;34m)\u001b[0m\u001b[0;34m:\u001b[0m\u001b[0;34m\u001b[0m\u001b[0m\n\u001b[0;32m--> 926\u001b[0;31m             \u001b[0mfh\u001b[0m \u001b[0;34m=\u001b[0m \u001b[0mnp\u001b[0m\u001b[0;34m.\u001b[0m\u001b[0mlib\u001b[0m\u001b[0;34m.\u001b[0m\u001b[0m_datasource\u001b[0m\u001b[0;34m.\u001b[0m\u001b[0mopen\u001b[0m\u001b[0;34m(\u001b[0m\u001b[0mfname\u001b[0m\u001b[0;34m,\u001b[0m \u001b[0;34m'rt'\u001b[0m\u001b[0;34m,\u001b[0m \u001b[0mencoding\u001b[0m\u001b[0;34m=\u001b[0m\u001b[0mencoding\u001b[0m\u001b[0;34m)\u001b[0m\u001b[0;34m\u001b[0m\u001b[0m\n\u001b[0m\u001b[1;32m    927\u001b[0m             \u001b[0mfencoding\u001b[0m \u001b[0;34m=\u001b[0m \u001b[0mgetattr\u001b[0m\u001b[0;34m(\u001b[0m\u001b[0mfh\u001b[0m\u001b[0;34m,\u001b[0m \u001b[0;34m'encoding'\u001b[0m\u001b[0;34m,\u001b[0m \u001b[0;34m'latin1'\u001b[0m\u001b[0;34m)\u001b[0m\u001b[0;34m\u001b[0m\u001b[0m\n\u001b[1;32m    928\u001b[0m             \u001b[0mfh\u001b[0m \u001b[0;34m=\u001b[0m \u001b[0miter\u001b[0m\u001b[0;34m(\u001b[0m\u001b[0mfh\u001b[0m\u001b[0;34m)\u001b[0m\u001b[0;34m\u001b[0m\u001b[0m\n",
      "\u001b[0;32m/Users/tomhudson/anaconda2/lib/python2.7/site-packages/numpy/lib/_datasource.pyc\u001b[0m in \u001b[0;36mopen\u001b[0;34m(path, mode, destpath, encoding, newline)\u001b[0m\n\u001b[1;32m    260\u001b[0m \u001b[0;34m\u001b[0m\u001b[0m\n\u001b[1;32m    261\u001b[0m     \u001b[0mds\u001b[0m \u001b[0;34m=\u001b[0m \u001b[0mDataSource\u001b[0m\u001b[0;34m(\u001b[0m\u001b[0mdestpath\u001b[0m\u001b[0;34m)\u001b[0m\u001b[0;34m\u001b[0m\u001b[0m\n\u001b[0;32m--> 262\u001b[0;31m     \u001b[0;32mreturn\u001b[0m \u001b[0mds\u001b[0m\u001b[0;34m.\u001b[0m\u001b[0mopen\u001b[0m\u001b[0;34m(\u001b[0m\u001b[0mpath\u001b[0m\u001b[0;34m,\u001b[0m \u001b[0mmode\u001b[0m\u001b[0;34m,\u001b[0m \u001b[0mencoding\u001b[0m\u001b[0;34m=\u001b[0m\u001b[0mencoding\u001b[0m\u001b[0;34m,\u001b[0m \u001b[0mnewline\u001b[0m\u001b[0;34m=\u001b[0m\u001b[0mnewline\u001b[0m\u001b[0;34m)\u001b[0m\u001b[0;34m\u001b[0m\u001b[0m\n\u001b[0m\u001b[1;32m    263\u001b[0m \u001b[0;34m\u001b[0m\u001b[0m\n\u001b[1;32m    264\u001b[0m \u001b[0;34m\u001b[0m\u001b[0m\n",
      "\u001b[0;32m/Users/tomhudson/anaconda2/lib/python2.7/site-packages/numpy/lib/_datasource.pyc\u001b[0m in \u001b[0;36mopen\u001b[0;34m(self, path, mode, encoding, newline)\u001b[0m\n\u001b[1;32m    616\u001b[0m                                       encoding=encoding, newline=newline)\n\u001b[1;32m    617\u001b[0m         \u001b[0;32melse\u001b[0m\u001b[0;34m:\u001b[0m\u001b[0;34m\u001b[0m\u001b[0m\n\u001b[0;32m--> 618\u001b[0;31m             \u001b[0;32mraise\u001b[0m \u001b[0mIOError\u001b[0m\u001b[0;34m(\u001b[0m\u001b[0;34m\"%s not found.\"\u001b[0m \u001b[0;34m%\u001b[0m \u001b[0mpath\u001b[0m\u001b[0;34m)\u001b[0m\u001b[0;34m\u001b[0m\u001b[0m\n\u001b[0m\u001b[1;32m    619\u001b[0m \u001b[0;34m\u001b[0m\u001b[0m\n\u001b[1;32m    620\u001b[0m \u001b[0;34m\u001b[0m\u001b[0m\n",
      "\u001b[0;31mIOError\u001b[0m: data/real_and_greens_func_data/real_data_ST01_z.txt not found."
     ]
    }
   ],
   "source": [
    "# And perform inversion:\n",
    "SeisSrcInv.inversion.run(datadir, outdir, real_data_fnames, MT_green_func_fnames, single_force_green_func_fnames, data_labels, inversion_type, perform_normallised_waveform_inversion, compare_all_waveforms_simultaneously, num_samples, comparison_metric, manual_indices_time_shift_MT, manual_indices_time_shift_SF, nlloc_hyp_filename, num_processors=num_processors, set_pre_time_shift_values_to_zero_switch=set_pre_time_shift_values_to_zero_switch, return_absolute_similarity_values_switch=return_absolute_similarity_values_switch, cut_phase_start_vals=cut_phase_start_vals, cut_phase_length=cut_phase_length)"
   ]
  },
  {
   "cell_type": "code",
   "execution_count": null,
   "metadata": {},
   "outputs": [],
   "source": []
  }
 ],
 "metadata": {
  "kernelspec": {
   "display_name": "Python 2",
   "language": "python",
   "name": "python2"
  },
  "language_info": {
   "codemirror_mode": {
    "name": "ipython",
    "version": 2
   },
   "file_extension": ".py",
   "mimetype": "text/x-python",
   "name": "python",
   "nbconvert_exporter": "python",
   "pygments_lexer": "ipython2",
   "version": "2.7.15"
  }
 },
 "nbformat": 4,
 "nbformat_minor": 2
}
